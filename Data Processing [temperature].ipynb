{
 "cells": [
  {
   "cell_type": "code",
   "execution_count": 1,
   "id": "828982c9",
   "metadata": {},
   "outputs": [],
   "source": [
    "import os\n",
    "import pickle\n",
    "import holidays\n",
    "import warnings\n",
    "import numpy as np\n",
    "import pandas as pd\n",
    "\n",
    "warnings.filterwarnings('ignore')"
   ]
  },
  {
   "cell_type": "markdown",
   "id": "73d1f7bf",
   "metadata": {},
   "source": [
    "**Temperature preprocessing**"
   ]
  },
  {
   "cell_type": "code",
   "execution_count": 2,
   "id": "63167566",
   "metadata": {},
   "outputs": [
    {
     "data": {
      "text/html": [
       "<div>\n",
       "<style scoped>\n",
       "    .dataframe tbody tr th:only-of-type {\n",
       "        vertical-align: middle;\n",
       "    }\n",
       "\n",
       "    .dataframe tbody tr th {\n",
       "        vertical-align: top;\n",
       "    }\n",
       "\n",
       "    .dataframe thead th {\n",
       "        text-align: right;\n",
       "    }\n",
       "</style>\n",
       "<table border=\"1\" class=\"dataframe\">\n",
       "  <thead>\n",
       "    <tr style=\"text-align: right;\">\n",
       "      <th></th>\n",
       "      <th>Date</th>\n",
       "      <th>Code INSEE région</th>\n",
       "      <th>Région</th>\n",
       "      <th>TMin (°C)</th>\n",
       "      <th>TMax (°C)</th>\n",
       "      <th>TMoy (°C)</th>\n",
       "    </tr>\n",
       "  </thead>\n",
       "  <tbody>\n",
       "    <tr>\n",
       "      <th>0</th>\n",
       "      <td>2016-01-01</td>\n",
       "      <td>24</td>\n",
       "      <td>Centre-Val de Loire</td>\n",
       "      <td>1.52</td>\n",
       "      <td>10.73</td>\n",
       "      <td>6.12</td>\n",
       "    </tr>\n",
       "    <tr>\n",
       "      <th>1</th>\n",
       "      <td>2016-01-01</td>\n",
       "      <td>11</td>\n",
       "      <td>Île-de-France</td>\n",
       "      <td>3.30</td>\n",
       "      <td>8.76</td>\n",
       "      <td>6.03</td>\n",
       "    </tr>\n",
       "    <tr>\n",
       "      <th>2</th>\n",
       "      <td>2016-01-01</td>\n",
       "      <td>75</td>\n",
       "      <td>Nouvelle-Aquitaine</td>\n",
       "      <td>3.32</td>\n",
       "      <td>13.58</td>\n",
       "      <td>8.45</td>\n",
       "    </tr>\n",
       "    <tr>\n",
       "      <th>3</th>\n",
       "      <td>2016-01-01</td>\n",
       "      <td>93</td>\n",
       "      <td>Provence-Alpes-Côte d'Azur</td>\n",
       "      <td>5.30</td>\n",
       "      <td>12.77</td>\n",
       "      <td>9.03</td>\n",
       "    </tr>\n",
       "    <tr>\n",
       "      <th>4</th>\n",
       "      <td>2016-01-01</td>\n",
       "      <td>27</td>\n",
       "      <td>Bourgogne-Franche-Comté</td>\n",
       "      <td>2.22</td>\n",
       "      <td>9.52</td>\n",
       "      <td>5.87</td>\n",
       "    </tr>\n",
       "  </tbody>\n",
       "</table>\n",
       "</div>"
      ],
      "text/plain": [
       "        Date  Code INSEE région                      Région  TMin (°C)  \\\n",
       "0 2016-01-01                 24         Centre-Val de Loire       1.52   \n",
       "1 2016-01-01                 11               Île-de-France       3.30   \n",
       "2 2016-01-01                 75          Nouvelle-Aquitaine       3.32   \n",
       "3 2016-01-01                 93  Provence-Alpes-Côte d'Azur       5.30   \n",
       "4 2016-01-01                 27     Bourgogne-Franche-Comté       2.22   \n",
       "\n",
       "   TMax (°C)  TMoy (°C)  \n",
       "0      10.73       6.12  \n",
       "1       8.76       6.03  \n",
       "2      13.58       8.45  \n",
       "3      12.77       9.03  \n",
       "4       9.52       5.87  "
      ]
     },
     "execution_count": 2,
     "metadata": {},
     "output_type": "execute_result"
    }
   ],
   "source": [
    "all_temp_df = pd.read_excel(\"data/raw/Daily Regional Temperature.xlsx\")  \n",
    "all_temp_df.head()"
   ]
  },
  {
   "cell_type": "code",
   "execution_count": 3,
   "id": "29b364f7",
   "metadata": {},
   "outputs": [
    {
     "data": {
      "text/html": [
       "<div>\n",
       "<style scoped>\n",
       "    .dataframe tbody tr th:only-of-type {\n",
       "        vertical-align: middle;\n",
       "    }\n",
       "\n",
       "    .dataframe tbody tr th {\n",
       "        vertical-align: top;\n",
       "    }\n",
       "\n",
       "    .dataframe thead th {\n",
       "        text-align: right;\n",
       "    }\n",
       "</style>\n",
       "<table border=\"1\" class=\"dataframe\">\n",
       "  <thead>\n",
       "    <tr style=\"text-align: right;\">\n",
       "      <th></th>\n",
       "      <th>Date</th>\n",
       "      <th>Code INSEE région</th>\n",
       "      <th>Région</th>\n",
       "      <th>TMin (°C)</th>\n",
       "      <th>TMax (°C)</th>\n",
       "      <th>TMoy (°C)</th>\n",
       "    </tr>\n",
       "  </thead>\n",
       "  <tbody>\n",
       "    <tr>\n",
       "      <th>18988</th>\n",
       "      <td>2019-12-31</td>\n",
       "      <td>27</td>\n",
       "      <td>Bourgogne-Franche-Comté</td>\n",
       "      <td>-2.90</td>\n",
       "      <td>3.03</td>\n",
       "      <td>0.07</td>\n",
       "    </tr>\n",
       "    <tr>\n",
       "      <th>18989</th>\n",
       "      <td>2019-12-31</td>\n",
       "      <td>44</td>\n",
       "      <td>Grand Est</td>\n",
       "      <td>-4.03</td>\n",
       "      <td>5.07</td>\n",
       "      <td>0.52</td>\n",
       "    </tr>\n",
       "    <tr>\n",
       "      <th>18990</th>\n",
       "      <td>2019-12-31</td>\n",
       "      <td>28</td>\n",
       "      <td>Normandie</td>\n",
       "      <td>-1.98</td>\n",
       "      <td>4.60</td>\n",
       "      <td>1.31</td>\n",
       "    </tr>\n",
       "    <tr>\n",
       "      <th>18991</th>\n",
       "      <td>2019-12-31</td>\n",
       "      <td>84</td>\n",
       "      <td>Auvergne-Rhône-Alpes</td>\n",
       "      <td>-2.77</td>\n",
       "      <td>7.66</td>\n",
       "      <td>2.45</td>\n",
       "    </tr>\n",
       "    <tr>\n",
       "      <th>18992</th>\n",
       "      <td>2019-12-31</td>\n",
       "      <td>94</td>\n",
       "      <td>Corse</td>\n",
       "      <td>2.50</td>\n",
       "      <td>13.70</td>\n",
       "      <td>8.10</td>\n",
       "    </tr>\n",
       "  </tbody>\n",
       "</table>\n",
       "</div>"
      ],
      "text/plain": [
       "            Date  Code INSEE région                   Région  TMin (°C)  \\\n",
       "18988 2019-12-31                 27  Bourgogne-Franche-Comté      -2.90   \n",
       "18989 2019-12-31                 44                Grand Est      -4.03   \n",
       "18990 2019-12-31                 28                Normandie      -1.98   \n",
       "18991 2019-12-31                 84     Auvergne-Rhône-Alpes      -2.77   \n",
       "18992 2019-12-31                 94                    Corse       2.50   \n",
       "\n",
       "       TMax (°C)  TMoy (°C)  \n",
       "18988       3.03       0.07  \n",
       "18989       5.07       0.52  \n",
       "18990       4.60       1.31  \n",
       "18991       7.66       2.45  \n",
       "18992      13.70       8.10  "
      ]
     },
     "execution_count": 3,
     "metadata": {},
     "output_type": "execute_result"
    }
   ],
   "source": [
    "temp_df = all_temp_df[all_temp_df['Date'].between('2016-01-01','2019-12-31')]\n",
    "temp_df.tail()"
   ]
  },
  {
   "cell_type": "code",
   "execution_count": 4,
   "id": "6f66e03a",
   "metadata": {},
   "outputs": [],
   "source": [
    "temp_df.rename(columns={'Code INSEE région':'Code'}, inplace=True)"
   ]
  },
  {
   "cell_type": "markdown",
   "id": "3fb95336",
   "metadata": {},
   "source": [
    "``` remove all rows belonging to coarse island region coded by 94```"
   ]
  },
  {
   "cell_type": "code",
   "execution_count": 5,
   "id": "a5fe0de4",
   "metadata": {},
   "outputs": [
    {
     "data": {
      "text/html": [
       "<div>\n",
       "<style scoped>\n",
       "    .dataframe tbody tr th:only-of-type {\n",
       "        vertical-align: middle;\n",
       "    }\n",
       "\n",
       "    .dataframe tbody tr th {\n",
       "        vertical-align: top;\n",
       "    }\n",
       "\n",
       "    .dataframe thead th {\n",
       "        text-align: right;\n",
       "    }\n",
       "</style>\n",
       "<table border=\"1\" class=\"dataframe\">\n",
       "  <thead>\n",
       "    <tr style=\"text-align: right;\">\n",
       "      <th></th>\n",
       "      <th>Date</th>\n",
       "      <th>Code</th>\n",
       "      <th>Région</th>\n",
       "      <th>TMin (°C)</th>\n",
       "      <th>TMax (°C)</th>\n",
       "      <th>TMoy (°C)</th>\n",
       "    </tr>\n",
       "  </thead>\n",
       "  <tbody>\n",
       "    <tr>\n",
       "      <th>0</th>\n",
       "      <td>2016-01-01</td>\n",
       "      <td>24</td>\n",
       "      <td>Centre-Val de Loire</td>\n",
       "      <td>1.52</td>\n",
       "      <td>10.73</td>\n",
       "      <td>6.12</td>\n",
       "    </tr>\n",
       "    <tr>\n",
       "      <th>1</th>\n",
       "      <td>2016-01-01</td>\n",
       "      <td>11</td>\n",
       "      <td>Île-de-France</td>\n",
       "      <td>3.30</td>\n",
       "      <td>8.76</td>\n",
       "      <td>6.03</td>\n",
       "    </tr>\n",
       "    <tr>\n",
       "      <th>2</th>\n",
       "      <td>2016-01-01</td>\n",
       "      <td>75</td>\n",
       "      <td>Nouvelle-Aquitaine</td>\n",
       "      <td>3.32</td>\n",
       "      <td>13.58</td>\n",
       "      <td>8.45</td>\n",
       "    </tr>\n",
       "    <tr>\n",
       "      <th>3</th>\n",
       "      <td>2016-01-01</td>\n",
       "      <td>93</td>\n",
       "      <td>Provence-Alpes-Côte d'Azur</td>\n",
       "      <td>5.30</td>\n",
       "      <td>12.77</td>\n",
       "      <td>9.03</td>\n",
       "    </tr>\n",
       "    <tr>\n",
       "      <th>4</th>\n",
       "      <td>2016-01-01</td>\n",
       "      <td>27</td>\n",
       "      <td>Bourgogne-Franche-Comté</td>\n",
       "      <td>2.22</td>\n",
       "      <td>9.52</td>\n",
       "      <td>5.87</td>\n",
       "    </tr>\n",
       "  </tbody>\n",
       "</table>\n",
       "</div>"
      ],
      "text/plain": [
       "        Date  Code                      Région  TMin (°C)  TMax (°C)  \\\n",
       "0 2016-01-01    24         Centre-Val de Loire       1.52      10.73   \n",
       "1 2016-01-01    11               Île-de-France       3.30       8.76   \n",
       "2 2016-01-01    75          Nouvelle-Aquitaine       3.32      13.58   \n",
       "3 2016-01-01    93  Provence-Alpes-Côte d'Azur       5.30      12.77   \n",
       "4 2016-01-01    27     Bourgogne-Franche-Comté       2.22       9.52   \n",
       "\n",
       "   TMoy (°C)  \n",
       "0       6.12  \n",
       "1       6.03  \n",
       "2       8.45  \n",
       "3       9.03  \n",
       "4       5.87  "
      ]
     },
     "execution_count": 5,
     "metadata": {},
     "output_type": "execute_result"
    }
   ],
   "source": [
    "temp_df.drop(temp_df.index[temp_df[\"Code\"] == 94],inplace=True)\n",
    "temp_df.head()"
   ]
  },
  {
   "cell_type": "markdown",
   "id": "493e01ae",
   "metadata": {},
   "source": [
    "```Check if there is an invalid date```"
   ]
  },
  {
   "cell_type": "code",
   "execution_count": 6,
   "id": "b78e9b55",
   "metadata": {},
   "outputs": [
    {
     "name": "stdout",
     "output_type": "stream",
     "text": [
      "Series([], Name: Date, dtype: datetime64[ns])\n"
     ]
    }
   ],
   "source": [
    "bool_col=pd.to_datetime(temp_df.Date, format='%Y-%m-%d', errors='coerce').isna()\n",
    "invalid_date=temp_df.Date[bool_col]\n",
    "print(invalid_date)"
   ]
  },
  {
   "cell_type": "markdown",
   "id": "7b2236f2",
   "metadata": {},
   "source": [
    "```Check whether if there are some cells of the dataframe containing some NA value```"
   ]
  },
  {
   "cell_type": "code",
   "execution_count": 7,
   "id": "d1f0a7f0",
   "metadata": {},
   "outputs": [
    {
     "data": {
      "text/plain": [
       "Date         0\n",
       "Code         0\n",
       "Région       0\n",
       "TMin (°C)    0\n",
       "TMax (°C)    0\n",
       "TMoy (°C)    0\n",
       "dtype: int64"
      ]
     },
     "execution_count": 7,
     "metadata": {},
     "output_type": "execute_result"
    }
   ],
   "source": [
    "temp_df.isnull().sum()"
   ]
  },
  {
   "cell_type": "markdown",
   "id": "4d22a516",
   "metadata": {},
   "source": [
    "```Convert the date column as an index to helps us to access and analyze the data easier without any condition```"
   ]
  },
  {
   "cell_type": "code",
   "execution_count": 8,
   "id": "994b9d25",
   "metadata": {},
   "outputs": [
    {
     "data": {
      "text/html": [
       "<div>\n",
       "<style scoped>\n",
       "    .dataframe tbody tr th:only-of-type {\n",
       "        vertical-align: middle;\n",
       "    }\n",
       "\n",
       "    .dataframe tbody tr th {\n",
       "        vertical-align: top;\n",
       "    }\n",
       "\n",
       "    .dataframe thead th {\n",
       "        text-align: right;\n",
       "    }\n",
       "</style>\n",
       "<table border=\"1\" class=\"dataframe\">\n",
       "  <thead>\n",
       "    <tr style=\"text-align: right;\">\n",
       "      <th></th>\n",
       "      <th>Code</th>\n",
       "      <th>Région</th>\n",
       "      <th>TMin (°C)</th>\n",
       "      <th>TMax (°C)</th>\n",
       "      <th>TMoy (°C)</th>\n",
       "    </tr>\n",
       "    <tr>\n",
       "      <th>Date</th>\n",
       "      <th></th>\n",
       "      <th></th>\n",
       "      <th></th>\n",
       "      <th></th>\n",
       "      <th></th>\n",
       "    </tr>\n",
       "  </thead>\n",
       "  <tbody>\n",
       "    <tr>\n",
       "      <th>2016-06-01</th>\n",
       "      <td>24</td>\n",
       "      <td>Centre-Val de Loire</td>\n",
       "      <td>11.83</td>\n",
       "      <td>17.53</td>\n",
       "      <td>14.68</td>\n",
       "    </tr>\n",
       "    <tr>\n",
       "      <th>2016-06-01</th>\n",
       "      <td>32</td>\n",
       "      <td>Hauts-de-France</td>\n",
       "      <td>12.62</td>\n",
       "      <td>14.92</td>\n",
       "      <td>13.77</td>\n",
       "    </tr>\n",
       "    <tr>\n",
       "      <th>2016-06-01</th>\n",
       "      <td>93</td>\n",
       "      <td>Provence-Alpes-Côte d'Azur</td>\n",
       "      <td>12.98</td>\n",
       "      <td>20.50</td>\n",
       "      <td>16.74</td>\n",
       "    </tr>\n",
       "    <tr>\n",
       "      <th>2016-06-01</th>\n",
       "      <td>11</td>\n",
       "      <td>Île-de-France</td>\n",
       "      <td>13.34</td>\n",
       "      <td>17.00</td>\n",
       "      <td>15.17</td>\n",
       "    </tr>\n",
       "    <tr>\n",
       "      <th>2016-06-01</th>\n",
       "      <td>28</td>\n",
       "      <td>Normandie</td>\n",
       "      <td>11.78</td>\n",
       "      <td>14.16</td>\n",
       "      <td>12.97</td>\n",
       "    </tr>\n",
       "  </tbody>\n",
       "</table>\n",
       "</div>"
      ],
      "text/plain": [
       "            Code                      Région  TMin (°C)  TMax (°C)  TMoy (°C)\n",
       "Date                                                                         \n",
       "2016-06-01    24         Centre-Val de Loire      11.83      17.53      14.68\n",
       "2016-06-01    32             Hauts-de-France      12.62      14.92      13.77\n",
       "2016-06-01    93  Provence-Alpes-Côte d'Azur      12.98      20.50      16.74\n",
       "2016-06-01    11               Île-de-France      13.34      17.00      15.17\n",
       "2016-06-01    28                   Normandie      11.78      14.16      12.97"
      ]
     },
     "execution_count": 8,
     "metadata": {},
     "output_type": "execute_result"
    }
   ],
   "source": [
    "temp_df.set_index('Date',inplace=True)\n",
    "temp_df.loc[\"2016-06\"].head()"
   ]
  },
  {
   "cell_type": "markdown",
   "id": "72583468",
   "metadata": {},
   "source": [
    "```Check if all regions have the same number of observations.```"
   ]
  },
  {
   "cell_type": "code",
   "execution_count": 9,
   "id": "beb5c84e",
   "metadata": {},
   "outputs": [
    {
     "data": {
      "text/plain": [
       "Code\n",
       "11    1461\n",
       "24    1461\n",
       "27    1461\n",
       "28    1461\n",
       "32    1461\n",
       "44    1461\n",
       "52    1461\n",
       "53    1461\n",
       "75    1461\n",
       "76    1461\n",
       "84    1461\n",
       "93    1461\n",
       "dtype: int64"
      ]
     },
     "execution_count": 9,
     "metadata": {},
     "output_type": "execute_result"
    }
   ],
   "source": [
    "temp_df.groupby(['Code']).size()"
   ]
  },
  {
   "cell_type": "markdown",
   "id": "0acece29",
   "metadata": {},
   "source": [
    "```Check if there is a missing date in the dataset```"
   ]
  },
  {
   "cell_type": "code",
   "execution_count": 10,
   "id": "33137b86",
   "metadata": {},
   "outputs": [
    {
     "name": "stdout",
     "output_type": "stream",
     "text": [
      "[]\n"
     ]
    }
   ],
   "source": [
    "missing_date = pd.date_range(start = temp_df.index.min(), end = temp_df.index.max()\n",
    "                            ).difference(temp_df.index).strftime('%Y-%m-%d').tolist()\n",
    "print(missing_date)"
   ]
  },
  {
   "cell_type": "markdown",
   "id": "db554adf",
   "metadata": {},
   "source": [
    "```Add the quarter column```"
   ]
  },
  {
   "cell_type": "code",
   "execution_count": 11,
   "id": "8dfbce12",
   "metadata": {},
   "outputs": [],
   "source": [
    "temp_df.insert(loc=temp_df.columns.shape[0], column='Quarter', value=temp_df.index.quarter)"
   ]
  },
  {
   "cell_type": "markdown",
   "id": "f2215cfd",
   "metadata": {},
   "source": [
    "```Add workday column, workday = 1, weekend = 0```"
   ]
  },
  {
   "cell_type": "code",
   "execution_count": 12,
   "id": "c0aa70de",
   "metadata": {},
   "outputs": [],
   "source": [
    "temp_df[\"Weekday\"] = temp_df.index.weekday "
   ]
  },
  {
   "cell_type": "markdown",
   "id": "588f2072",
   "metadata": {},
   "source": [
    "```Add holilday column ```"
   ]
  },
  {
   "cell_type": "code",
   "execution_count": 13,
   "id": "ecdbae00",
   "metadata": {},
   "outputs": [],
   "source": [
    "temp_df[\"Holiday\"] = 0\n",
    "holdidays = temp_df[\"Weekday\"] >= 5\n",
    "temp_df.loc[holdidays,\"Holiday\"] = 1\n",
    "\n",
    "public_holidays = temp_df.index.to_series().apply(lambda x:x in holidays.France())\n",
    "public_holidays_dates= temp_df.index[public_holidays]\n",
    "temp_df.loc[public_holidays_dates,\"Holiday\"] = 1"
   ]
  },
  {
   "cell_type": "code",
   "execution_count": 14,
   "id": "c661782c",
   "metadata": {},
   "outputs": [
    {
     "name": "stdout",
     "output_type": "stream",
     "text": [
      "Number of weekends and public holidays per region and years (2016-2019): 454.0\n",
      "Number of workdays per region and years (2016-2019): 1007.0\n"
     ]
    }
   ],
   "source": [
    "non_work_days = temp_df[temp_df[\"Holiday\"] == 1][\"Holiday\"].count()/12\n",
    "work_days = temp_df[temp_df[\"Holiday\"] == 0][\"Holiday\"].count()/12\n",
    "print(\"Number of weekends and public holidays per region and years (2016-2019): {}\".format(non_work_days))\n",
    "print(\"Number of workdays per region and years (2016-2019): {}\".format(work_days))"
   ]
  },
  {
   "cell_type": "markdown",
   "id": "c5c59615",
   "metadata": {},
   "source": [
    "```Add HDD and CDD column based on https://en.wikipedia.org/wiki/Heating_degree_day#cite_note-1```"
   ]
  },
  {
   "cell_type": "code",
   "execution_count": 15,
   "id": "1f357994",
   "metadata": {},
   "outputs": [],
   "source": [
    "# 59.9 F = 15.5 °C\n",
    "temp_df[\"HDD\"] = np.where( temp_df[\"TMoy (°C)\"] < 15.5, 15.5 - temp_df[\"TMoy (°C)\"], 0)\n",
    "temp_df[\"CDD\"] = np.where( temp_df[\"TMoy (°C)\"] > 15.5, temp_df[\"TMoy (°C)\"] - 15.5, 0)"
   ]
  },
  {
   "cell_type": "code",
   "execution_count": 16,
   "id": "3c177cf1",
   "metadata": {},
   "outputs": [],
   "source": [
    "temp_dict = {}\n",
    "region = temp_df.groupby([\"Code\"])\n",
    "for name,group in region:\n",
    "    temp_dict[name] = group"
   ]
  },
  {
   "cell_type": "code",
   "execution_count": 17,
   "id": "9ad90a0c",
   "metadata": {},
   "outputs": [],
   "source": [
    "os.makedirs('data/processed', exist_ok=True)\n",
    "with open('data/processed/temp_data.pkl', 'wb') as f:\n",
    "    pickle.dump(temp_dict, f)"
   ]
  }
 ],
 "metadata": {
  "kernelspec": {
   "display_name": "Python 3",
   "language": "python",
   "name": "python3"
  },
  "language_info": {
   "codemirror_mode": {
    "name": "ipython",
    "version": 3
   },
   "file_extension": ".py",
   "mimetype": "text/x-python",
   "name": "python",
   "nbconvert_exporter": "python",
   "pygments_lexer": "ipython3",
   "version": "3.8.8"
  }
 },
 "nbformat": 4,
 "nbformat_minor": 5
}
